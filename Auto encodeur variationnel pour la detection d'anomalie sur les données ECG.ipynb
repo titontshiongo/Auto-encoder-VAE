{
 "cells": [
  {
   "cell_type": "code",
   "execution_count": 1,
   "id": "769c480a",
   "metadata": {
    "collapsed": true
   },
   "outputs": [
    {
     "name": "stderr",
     "output_type": "stream",
     "text": [
      "2022-04-21 09:55:18.874191: W tensorflow/stream_executor/platform/default/dso_loader.cc:64] Could not load dynamic library 'libcudart.so.11.0'; dlerror: libcudart.so.11.0: cannot open shared object file: No such file or directory\n",
      "2022-04-21 09:55:18.874216: I tensorflow/stream_executor/cuda/cudart_stub.cc:29] Ignore above cudart dlerror if you do not have a GPU set up on your machine.\n"
     ]
    }
   ],
   "source": [
    "import matplotlib.pyplot as plt\n",
    "import numpy as np\n",
    "import tensorflow as tf\n",
    "import pandas as pd\n",
    "from sklearn.metrics import accuracy_score, precision_score, recall_score\n",
    "from sklearn.model_selection import train_test_split\n",
    "from tensorflow.keras import layers, losses\n",
    "from tensorflow.keras.models import Model"
   ]
  },
  {
   "cell_type": "markdown",
   "id": "38e81ad2",
   "metadata": {},
   "source": [
    "# Chargement des données"
   ]
  },
  {
   "cell_type": "code",
   "execution_count": 2,
   "id": "af09a233",
   "metadata": {},
   "outputs": [
    {
     "data": {
      "text/html": [
       "<div>\n",
       "<style scoped>\n",
       "    .dataframe tbody tr th:only-of-type {\n",
       "        vertical-align: middle;\n",
       "    }\n",
       "\n",
       "    .dataframe tbody tr th {\n",
       "        vertical-align: top;\n",
       "    }\n",
       "\n",
       "    .dataframe thead th {\n",
       "        text-align: right;\n",
       "    }\n",
       "</style>\n",
       "<table border=\"1\" class=\"dataframe\">\n",
       "  <thead>\n",
       "    <tr style=\"text-align: right;\">\n",
       "      <th></th>\n",
       "      <th>0</th>\n",
       "      <th>1</th>\n",
       "      <th>2</th>\n",
       "      <th>3</th>\n",
       "      <th>4</th>\n",
       "      <th>5</th>\n",
       "      <th>6</th>\n",
       "      <th>7</th>\n",
       "      <th>8</th>\n",
       "      <th>9</th>\n",
       "      <th>...</th>\n",
       "      <th>131</th>\n",
       "      <th>132</th>\n",
       "      <th>133</th>\n",
       "      <th>134</th>\n",
       "      <th>135</th>\n",
       "      <th>136</th>\n",
       "      <th>137</th>\n",
       "      <th>138</th>\n",
       "      <th>139</th>\n",
       "      <th>140</th>\n",
       "    </tr>\n",
       "  </thead>\n",
       "  <tbody>\n",
       "    <tr>\n",
       "      <th>0</th>\n",
       "      <td>-0.112522</td>\n",
       "      <td>-2.827204</td>\n",
       "      <td>-3.773897</td>\n",
       "      <td>-4.349751</td>\n",
       "      <td>-4.376041</td>\n",
       "      <td>-3.474986</td>\n",
       "      <td>-2.181408</td>\n",
       "      <td>-1.818286</td>\n",
       "      <td>-1.250522</td>\n",
       "      <td>-0.477492</td>\n",
       "      <td>...</td>\n",
       "      <td>0.792168</td>\n",
       "      <td>0.933541</td>\n",
       "      <td>0.796958</td>\n",
       "      <td>0.578621</td>\n",
       "      <td>0.257740</td>\n",
       "      <td>0.228077</td>\n",
       "      <td>0.123431</td>\n",
       "      <td>0.925286</td>\n",
       "      <td>0.193137</td>\n",
       "      <td>1.0</td>\n",
       "    </tr>\n",
       "    <tr>\n",
       "      <th>1</th>\n",
       "      <td>-1.100878</td>\n",
       "      <td>-3.996840</td>\n",
       "      <td>-4.285843</td>\n",
       "      <td>-4.506579</td>\n",
       "      <td>-4.022377</td>\n",
       "      <td>-3.234368</td>\n",
       "      <td>-1.566126</td>\n",
       "      <td>-0.992258</td>\n",
       "      <td>-0.754680</td>\n",
       "      <td>0.042321</td>\n",
       "      <td>...</td>\n",
       "      <td>0.538356</td>\n",
       "      <td>0.656881</td>\n",
       "      <td>0.787490</td>\n",
       "      <td>0.724046</td>\n",
       "      <td>0.555784</td>\n",
       "      <td>0.476333</td>\n",
       "      <td>0.773820</td>\n",
       "      <td>1.119621</td>\n",
       "      <td>-1.436250</td>\n",
       "      <td>1.0</td>\n",
       "    </tr>\n",
       "    <tr>\n",
       "      <th>2</th>\n",
       "      <td>-0.567088</td>\n",
       "      <td>-2.593450</td>\n",
       "      <td>-3.874230</td>\n",
       "      <td>-4.584095</td>\n",
       "      <td>-4.187449</td>\n",
       "      <td>-3.151462</td>\n",
       "      <td>-1.742940</td>\n",
       "      <td>-1.490659</td>\n",
       "      <td>-1.183580</td>\n",
       "      <td>-0.394229</td>\n",
       "      <td>...</td>\n",
       "      <td>0.886073</td>\n",
       "      <td>0.531452</td>\n",
       "      <td>0.311377</td>\n",
       "      <td>-0.021919</td>\n",
       "      <td>-0.713683</td>\n",
       "      <td>-0.532197</td>\n",
       "      <td>0.321097</td>\n",
       "      <td>0.904227</td>\n",
       "      <td>-0.421797</td>\n",
       "      <td>1.0</td>\n",
       "    </tr>\n",
       "    <tr>\n",
       "      <th>3</th>\n",
       "      <td>0.490473</td>\n",
       "      <td>-1.914407</td>\n",
       "      <td>-3.616364</td>\n",
       "      <td>-4.318823</td>\n",
       "      <td>-4.268016</td>\n",
       "      <td>-3.881110</td>\n",
       "      <td>-2.993280</td>\n",
       "      <td>-1.671131</td>\n",
       "      <td>-1.333884</td>\n",
       "      <td>-0.965629</td>\n",
       "      <td>...</td>\n",
       "      <td>0.350816</td>\n",
       "      <td>0.499111</td>\n",
       "      <td>0.600345</td>\n",
       "      <td>0.842069</td>\n",
       "      <td>0.952074</td>\n",
       "      <td>0.990133</td>\n",
       "      <td>1.086798</td>\n",
       "      <td>1.403011</td>\n",
       "      <td>-0.383564</td>\n",
       "      <td>1.0</td>\n",
       "    </tr>\n",
       "    <tr>\n",
       "      <th>4</th>\n",
       "      <td>0.800232</td>\n",
       "      <td>-0.874252</td>\n",
       "      <td>-2.384761</td>\n",
       "      <td>-3.973292</td>\n",
       "      <td>-4.338224</td>\n",
       "      <td>-3.802422</td>\n",
       "      <td>-2.534510</td>\n",
       "      <td>-1.783423</td>\n",
       "      <td>-1.594450</td>\n",
       "      <td>-0.753199</td>\n",
       "      <td>...</td>\n",
       "      <td>1.148884</td>\n",
       "      <td>0.958434</td>\n",
       "      <td>1.059025</td>\n",
       "      <td>1.371682</td>\n",
       "      <td>1.277392</td>\n",
       "      <td>0.960304</td>\n",
       "      <td>0.971020</td>\n",
       "      <td>1.614392</td>\n",
       "      <td>1.421456</td>\n",
       "      <td>1.0</td>\n",
       "    </tr>\n",
       "  </tbody>\n",
       "</table>\n",
       "<p>5 rows × 141 columns</p>\n",
       "</div>"
      ],
      "text/plain": [
       "        0         1         2         3         4         5         6    \\\n",
       "0 -0.112522 -2.827204 -3.773897 -4.349751 -4.376041 -3.474986 -2.181408   \n",
       "1 -1.100878 -3.996840 -4.285843 -4.506579 -4.022377 -3.234368 -1.566126   \n",
       "2 -0.567088 -2.593450 -3.874230 -4.584095 -4.187449 -3.151462 -1.742940   \n",
       "3  0.490473 -1.914407 -3.616364 -4.318823 -4.268016 -3.881110 -2.993280   \n",
       "4  0.800232 -0.874252 -2.384761 -3.973292 -4.338224 -3.802422 -2.534510   \n",
       "\n",
       "        7         8         9    ...       131       132       133       134  \\\n",
       "0 -1.818286 -1.250522 -0.477492  ...  0.792168  0.933541  0.796958  0.578621   \n",
       "1 -0.992258 -0.754680  0.042321  ...  0.538356  0.656881  0.787490  0.724046   \n",
       "2 -1.490659 -1.183580 -0.394229  ...  0.886073  0.531452  0.311377 -0.021919   \n",
       "3 -1.671131 -1.333884 -0.965629  ...  0.350816  0.499111  0.600345  0.842069   \n",
       "4 -1.783423 -1.594450 -0.753199  ...  1.148884  0.958434  1.059025  1.371682   \n",
       "\n",
       "        135       136       137       138       139  140  \n",
       "0  0.257740  0.228077  0.123431  0.925286  0.193137  1.0  \n",
       "1  0.555784  0.476333  0.773820  1.119621 -1.436250  1.0  \n",
       "2 -0.713683 -0.532197  0.321097  0.904227 -0.421797  1.0  \n",
       "3  0.952074  0.990133  1.086798  1.403011 -0.383564  1.0  \n",
       "4  1.277392  0.960304  0.971020  1.614392  1.421456  1.0  \n",
       "\n",
       "[5 rows x 141 columns]"
      ]
     },
     "execution_count": 2,
     "metadata": {},
     "output_type": "execute_result"
    }
   ],
   "source": [
    "dataframe = pd.read_csv('http://storage.googleapis.com/download.tensorflow.org/data/ecg.csv', header=None)\n",
    "raw_data = dataframe.values\n",
    "dataframe.head()"
   ]
  },
  {
   "cell_type": "code",
   "execution_count": 3,
   "id": "a0a3e890",
   "metadata": {},
   "outputs": [],
   "source": [
    "# Les étiquettes: données labélisées\n",
    "labels = raw_data[:, -1]\n",
    "\n",
    "# les données ECG\n",
    "\n",
    "data = raw_data[:, 0:-1]\n",
    "\n",
    "train_data, test_data, train_labels, test_labels = train_test_split(\n",
    "    data, labels, test_size=0.2, random_state=21\n",
    ")"
   ]
  },
  {
   "cell_type": "markdown",
   "id": "23b38469",
   "metadata": {},
   "source": [
    "# Normalisation des données"
   ]
  },
  {
   "cell_type": "code",
   "execution_count": 4,
   "id": "2e024cb2",
   "metadata": {
    "collapsed": true
   },
   "outputs": [
    {
     "name": "stderr",
     "output_type": "stream",
     "text": [
      "2022-04-21 09:59:59.892540: W tensorflow/stream_executor/platform/default/dso_loader.cc:64] Could not load dynamic library 'libcuda.so.1'; dlerror: libcuda.so.1: cannot open shared object file: No such file or directory\n",
      "2022-04-21 09:59:59.892570: W tensorflow/stream_executor/cuda/cuda_driver.cc:269] failed call to cuInit: UNKNOWN ERROR (303)\n",
      "2022-04-21 09:59:59.892594: I tensorflow/stream_executor/cuda/cuda_diagnostics.cc:156] kernel driver does not appear to be running on this host (hprisser): /proc/driver/nvidia/version does not exist\n",
      "2022-04-21 09:59:59.892871: I tensorflow/core/platform/cpu_feature_guard.cc:151] This TensorFlow binary is optimized with oneAPI Deep Neural Network Library (oneDNN) to use the following CPU instructions in performance-critical operations:  AVX2 FMA\n",
      "To enable them in other operations, rebuild TensorFlow with the appropriate compiler flags.\n"
     ]
    }
   ],
   "source": [
    "min_val = tf.reduce_min(train_data)\n",
    "max_val = tf.reduce_max(train_data)\n",
    "\n",
    "train_data = (train_data - min_val) / (max_val - min_val)\n",
    "test_data = (test_data - min_val) / (max_val - min_val)\n",
    "\n",
    "train_data = tf.cast(train_data, tf.float32)\n",
    "test_data = tf.cast(test_data, tf.float32)"
   ]
  },
  {
   "cell_type": "code",
   "execution_count": 5,
   "id": "c157005f",
   "metadata": {},
   "outputs": [],
   "source": [
    "# Entrâinement sur les données ECG normales étiquettés :1 d'où la séparation entre les ECG normaux et anormaux\n",
    "\n",
    "train_labels = train_labels.astype(bool)\n",
    "test_labels = test_labels.astype(bool)\n",
    "\n",
    "normal_train_data = train_data[train_labels]\n",
    "normal_test_data = test_data[test_labels]\n",
    "\n",
    "anomalous_train_data = train_data[~train_labels]\n",
    "anomalous_test_data = test_data[~test_labels]"
   ]
  },
  {
   "cell_type": "markdown",
   "id": "f92fd263",
   "metadata": {},
   "source": [
    "# représentation d'un signal normal ECG "
   ]
  },
  {
   "cell_type": "code",
   "execution_count": 6,
   "id": "0fbf85b1",
   "metadata": {},
   "outputs": [
    {
     "data": {
      "image/png": "[encoded data removed]",
      "text/plain": [
       "<Figure size 432x288 with 1 Axes>"
      ]
     },
     "metadata": {
      "needs_background": "light"
     },
     "output_type": "display_data"
    }
   ],
   "source": [
    "plt.grid()\n",
    "plt.plot(np.arange(140), normal_train_data[0])\n",
    "plt.title(\" Courbe normal ECG\")\n",
    "plt.show()"
   ]
  },
  {
   "cell_type": "markdown",
   "id": "67c07770",
   "metadata": {},
   "source": [
    "# signal anormal ECG \n"
   ]
  },
  {
   "cell_type": "code",
   "execution_count": 7,
   "id": "95a38ac1",
   "metadata": {},
   "outputs": [
    {
     "data": {
      "image/png": "[encoded data removed]",
      "text/plain": [
       "<Figure size 432x288 with 1 Axes>"
      ]
     },
     "metadata": {
      "needs_background": "light"
     },
     "output_type": "display_data"
    }
   ],
   "source": [
    "plt.grid()\n",
    "plt.plot(np.arange(140), anomalous_train_data[0])\n",
    "plt.title(\"Courbe anormal ECG\")\n",
    "plt.show()"
   ]
  },
  {
   "cell_type": "markdown",
   "id": "5eff3b00",
   "metadata": {},
   "source": [
    "# Construction de la VAE"
   ]
  },
  {
   "cell_type": "code",
   "execution_count": 8,
   "id": "806a0c84",
   "metadata": {},
   "outputs": [],
   "source": [
    "# Couche d'échantillonage\n",
    "\n",
    "class Sampling(layers.Layer):\n",
    "    \"\"\"Uses (z_mean, z_log_var) to sample z, the vector encoding a digit.\"\"\"\n",
    "\n",
    "    def call(self, inputs):\n",
    "        z_mean, z_log_var = inputs\n",
    "        batch = tf.shape(z_mean)[0]\n",
    "        dim = tf.shape(z_mean)[1]\n",
    "        epsilon = tf.keras.backend.random_normal(shape=(batch, dim))\n",
    "        return z_mean + tf.exp(0.5 * z_log_var) * epsilon"
   ]
  },
  {
   "cell_type": "code",
   "execution_count": 9,
   "id": "515e2ba2",
   "metadata": {},
   "outputs": [],
   "source": [
    "# Construction de l'encodeur\n",
    "\n",
    "def encoder_model(normal_train_data):\n",
    "    encoder_inputs = tf.keras.Input(shape=(normal_train_data.shape[1]))\n",
    "    x = layers.Dense(32, activation=\"relu\")(encoder_inputs)\n",
    "    x = layers.Dense(16, activation=\"relu\")(x)\n",
    "    x = layers.Dense(8, activation=\"relu\")(x)\n",
    "    \n",
    "    # So far we just copied the network from above\n",
    "    # Now we generate the latent space of mean and log-variance, in this case of dimension 8\n",
    "    z_mean = layers.Dense(8, name=\"z_mean\")(x)\n",
    "    z_log_var = layers.Dense(8, name=\"z_log_var\")(x)\n",
    "    \n",
    "    # Sample from these distributions\n",
    "    z = Sampling()([z_mean, z_log_var])\n",
    "    \n",
    "    encoder = tf.keras.Model(encoder_inputs, [z_mean, z_log_var, z], name=\"encoder\")\n",
    "    return encoder"
   ]
  },
  {
   "cell_type": "code",
   "execution_count": 10,
   "id": "00baf469",
   "metadata": {},
   "outputs": [],
   "source": [
    "# Construction du decoder\n",
    "\n",
    "def decoder_model(normal_train_data):\n",
    "    # Recreate the network we used for the 'normal' autoencoder\n",
    "    latent_inputs = tf.keras.Input(shape=(8,))\n",
    "    x = layers.Dense(16, activation=\"relu\")(latent_inputs)\n",
    "    x = layers.Dense(32, activation=\"relu\")(x)\n",
    "    decoder_outputs = layers.Dense(normal_train_data.shape[1], activation=\"relu\")(x)\n",
    "    decoder = tf.keras.Model(latent_inputs, decoder_outputs, name=\"decoder\")\n",
    "    return decoder"
   ]
  },
  {
   "cell_type": "code",
   "execution_count": 11,
   "id": "3d1ffef0",
   "metadata": {},
   "outputs": [],
   "source": [
    "# Construction de la VAE ainsi que calcul de la KL_loss et Loss_reconstruction\n",
    "\n",
    "class VAE(tf.keras.Model):\n",
    "    def __init__(self, encoder, decoder, **kwargs):\n",
    "        super(VAE, self).__init__(**kwargs)\n",
    "        self.encoder = encoder\n",
    "        self.decoder = decoder\n",
    "\n",
    "    def train_step(self, data):\n",
    "        if isinstance(data, tuple):\n",
    "            data = data[0]\n",
    "        with tf.GradientTape() as tape:\n",
    "            z_mean, z_log_var, z = self.encoder(data)\n",
    "            reconstruction = self.decoder(z)\n",
    "            reconstruction_loss = tf.reduce_mean(\n",
    "                tf.keras.losses.binary_crossentropy(data, reconstruction)\n",
    "            )\n",
    "            kl_loss = 1 + z_log_var - tf.square(z_mean) - tf.exp(z_log_var)\n",
    "            kl_loss = tf.reduce_mean(kl_loss)\n",
    "            kl_loss *= -0.5\n",
    "            total_loss = reconstruction_loss + kl_loss\n",
    "        grads = tape.gradient(total_loss, self.trainable_weights)\n",
    "        self.optimizer.apply_gradients(zip(grads, self.trainable_weights))\n",
    "        return {\n",
    "            \"loss\": total_loss,\n",
    "            \"reconstruction_loss\": reconstruction_loss,\n",
    "            \"kl_loss\": kl_loss,\n",
    "        }\n",
    "    def call(self, x):\n",
    "        encoded = self.encoder(x)\n",
    "        decoded = self.decoder(encoded)\n",
    "        return decoded"
   ]
  },
  {
   "cell_type": "code",
   "execution_count": 12,
   "id": "6c226c25",
   "metadata": {},
   "outputs": [],
   "source": [
    "# compilation de l'encoder et du decoder\n",
    "\n",
    "encoder = encoder_model(normal_train_data)\n",
    "decoder = decoder_model(normal_train_data)\n",
    "\n",
    "# combinaison de l'encoder et decoder\n",
    "\n",
    "vae = VAE(encoder, decoder)\n",
    "\n",
    "# Compilation du modèle\n",
    "\n",
    "vae.compile(optimizer=tf.keras.optimizers.Adam(),loss='mae')"
   ]
  },
  {
   "cell_type": "code",
   "execution_count": 13,
   "id": "de6619a5",
   "metadata": {
    "collapsed": true
   },
   "outputs": [
    {
     "name": "stdout",
     "output_type": "stream",
     "text": [
      "Epoch 1/80\n",
      "19/19 [==============================] - 1s 3ms/step - loss: 3.5380 - reconstruction_loss: 3.5309 - kl_loss: 0.0071\n",
      "Epoch 2/80\n",
      "19/19 [==============================] - 0s 3ms/step - loss: 2.4543 - reconstruction_loss: 2.4458 - kl_loss: 0.0085\n",
      "Epoch 3/80\n",
      "19/19 [==============================] - 0s 3ms/step - loss: 1.7284 - reconstruction_loss: 1.7086 - kl_loss: 0.0198\n",
      "Epoch 4/80\n",
      "19/19 [==============================] - 0s 3ms/step - loss: 1.3060 - reconstruction_loss: 1.2825 - kl_loss: 0.0234\n",
      "Epoch 5/80\n",
      "19/19 [==============================] - 0s 3ms/step - loss: 1.1212 - reconstruction_loss: 1.1115 - kl_loss: 0.0097\n",
      "Epoch 6/80\n",
      "19/19 [==============================] - 0s 3ms/step - loss: 1.0319 - reconstruction_loss: 1.0270 - kl_loss: 0.0049\n",
      "Epoch 7/80\n",
      "19/19 [==============================] - 0s 3ms/step - loss: 0.9815 - reconstruction_loss: 0.9794 - kl_loss: 0.0020\n",
      "Epoch 8/80\n",
      "19/19 [==============================] - 0s 3ms/step - loss: 0.9569 - reconstruction_loss: 0.9527 - kl_loss: 0.0042\n",
      "Epoch 9/80\n",
      "19/19 [==============================] - 0s 4ms/step - loss: 0.9402 - reconstruction_loss: 0.9188 - kl_loss: 0.0214\n",
      "Epoch 10/80\n",
      "19/19 [==============================] - 0s 3ms/step - loss: 0.9133 - reconstruction_loss: 0.9091 - kl_loss: 0.0042\n",
      "Epoch 11/80\n",
      "19/19 [==============================] - 0s 3ms/step - loss: 0.8977 - reconstruction_loss: 0.8967 - kl_loss: 0.0010\n",
      "Epoch 12/80\n",
      "19/19 [==============================] - 0s 4ms/step - loss: 0.8822 - reconstruction_loss: 0.8815 - kl_loss: 6.8562e-04\n",
      "Epoch 13/80\n",
      "19/19 [==============================] - 0s 3ms/step - loss: 0.8769 - reconstruction_loss: 0.8759 - kl_loss: 9.8058e-04\n",
      "Epoch 14/80\n",
      "19/19 [==============================] - 0s 3ms/step - loss: 0.8688 - reconstruction_loss: 0.8678 - kl_loss: 0.0010\n",
      "Epoch 15/80\n",
      "19/19 [==============================] - 0s 4ms/step - loss: 0.8564 - reconstruction_loss: 0.8556 - kl_loss: 8.0524e-04\n",
      "Epoch 16/80\n",
      "19/19 [==============================] - 0s 4ms/step - loss: 0.8512 - reconstruction_loss: 0.8506 - kl_loss: 5.9359e-04\n",
      "Epoch 17/80\n",
      "19/19 [==============================] - 0s 3ms/step - loss: 0.8416 - reconstruction_loss: 0.8411 - kl_loss: 4.8445e-04\n",
      "Epoch 18/80\n",
      "19/19 [==============================] - 0s 3ms/step - loss: 0.8404 - reconstruction_loss: 0.8400 - kl_loss: 3.7473e-04\n",
      "Epoch 19/80\n",
      "19/19 [==============================] - 0s 3ms/step - loss: 0.8347 - reconstruction_loss: 0.8343 - kl_loss: 4.3739e-04\n",
      "Epoch 20/80\n",
      "19/19 [==============================] - 0s 3ms/step - loss: 0.8287 - reconstruction_loss: 0.8277 - kl_loss: 9.7234e-04\n",
      "Epoch 21/80\n",
      "19/19 [==============================] - 0s 3ms/step - loss: 0.8274 - reconstruction_loss: 0.8267 - kl_loss: 7.1271e-04\n",
      "Epoch 22/80\n",
      "19/19 [==============================] - 0s 4ms/step - loss: 0.8248 - reconstruction_loss: 0.8244 - kl_loss: 4.1439e-04\n",
      "Epoch 23/80\n",
      "19/19 [==============================] - 0s 3ms/step - loss: 0.8225 - reconstruction_loss: 0.8221 - kl_loss: 4.2250e-04\n",
      "Epoch 24/80\n",
      "19/19 [==============================] - 0s 3ms/step - loss: 0.8210 - reconstruction_loss: 0.8206 - kl_loss: 3.5169e-04\n",
      "Epoch 25/80\n",
      "19/19 [==============================] - 0s 3ms/step - loss: 0.8154 - reconstruction_loss: 0.8151 - kl_loss: 2.7038e-04\n",
      "Epoch 26/80\n",
      "19/19 [==============================] - 0s 3ms/step - loss: 0.8141 - reconstruction_loss: 0.8139 - kl_loss: 2.2143e-04\n",
      "Epoch 27/80\n",
      "19/19 [==============================] - 0s 3ms/step - loss: 0.8116 - reconstruction_loss: 0.8113 - kl_loss: 2.4991e-04\n",
      "Epoch 28/80\n",
      "19/19 [==============================] - 0s 3ms/step - loss: 0.8096 - reconstruction_loss: 0.8093 - kl_loss: 2.7402e-04\n",
      "Epoch 29/80\n",
      "19/19 [==============================] - 0s 3ms/step - loss: 0.7940 - reconstruction_loss: 0.7937 - kl_loss: 2.4055e-04\n",
      "Epoch 30/80\n",
      "19/19 [==============================] - 0s 4ms/step - loss: 0.7662 - reconstruction_loss: 0.7659 - kl_loss: 3.0765e-04\n",
      "Epoch 31/80\n",
      "19/19 [==============================] - 0s 3ms/step - loss: 0.7652 - reconstruction_loss: 0.7649 - kl_loss: 2.4449e-04\n",
      "Epoch 32/80\n",
      "19/19 [==============================] - 0s 4ms/step - loss: 0.7643 - reconstruction_loss: 0.7638 - kl_loss: 4.6512e-04\n",
      "Epoch 33/80\n",
      "19/19 [==============================] - 0s 3ms/step - loss: 0.7657 - reconstruction_loss: 0.7650 - kl_loss: 6.5584e-04\n",
      "Epoch 34/80\n",
      "19/19 [==============================] - 0s 3ms/step - loss: 0.7593 - reconstruction_loss: 0.7590 - kl_loss: 2.5727e-04\n",
      "Epoch 35/80\n",
      "19/19 [==============================] - 0s 3ms/step - loss: 0.7603 - reconstruction_loss: 0.7601 - kl_loss: 1.9290e-04\n",
      "Epoch 36/80\n",
      "19/19 [==============================] - 0s 3ms/step - loss: 0.7579 - reconstruction_loss: 0.7577 - kl_loss: 2.2536e-04\n",
      "Epoch 37/80\n",
      "19/19 [==============================] - 0s 3ms/step - loss: 0.7581 - reconstruction_loss: 0.7578 - kl_loss: 2.8110e-04\n",
      "Epoch 38/80\n",
      "19/19 [==============================] - 0s 3ms/step - loss: 0.7577 - reconstruction_loss: 0.7573 - kl_loss: 3.3416e-04\n",
      "Epoch 39/80\n",
      "19/19 [==============================] - 0s 4ms/step - loss: 0.7560 - reconstruction_loss: 0.7558 - kl_loss: 2.3353e-04\n",
      "Epoch 40/80\n",
      "19/19 [==============================] - 0s 3ms/step - loss: 0.7570 - reconstruction_loss: 0.7568 - kl_loss: 2.2387e-04\n",
      "Epoch 41/80\n",
      "19/19 [==============================] - 0s 3ms/step - loss: 0.7553 - reconstruction_loss: 0.7550 - kl_loss: 2.5161e-04\n",
      "Epoch 42/80\n",
      "19/19 [==============================] - 0s 4ms/step - loss: 0.7523 - reconstruction_loss: 0.7520 - kl_loss: 2.6169e-04\n",
      "Epoch 43/80\n",
      "19/19 [==============================] - 0s 3ms/step - loss: 0.7517 - reconstruction_loss: 0.7515 - kl_loss: 2.2593e-04\n",
      "Epoch 44/80\n",
      "19/19 [==============================] - 0s 3ms/step - loss: 0.7513 - reconstruction_loss: 0.7511 - kl_loss: 2.1031e-04\n",
      "Epoch 45/80\n",
      "19/19 [==============================] - 0s 3ms/step - loss: 0.7507 - reconstruction_loss: 0.7504 - kl_loss: 2.6652e-04\n",
      "Epoch 46/80\n",
      "19/19 [==============================] - 0s 3ms/step - loss: 0.7482 - reconstruction_loss: 0.7480 - kl_loss: 2.1938e-04\n",
      "Epoch 47/80\n",
      "19/19 [==============================] - 0s 3ms/step - loss: 0.7492 - reconstruction_loss: 0.7487 - kl_loss: 5.3837e-04\n",
      "Epoch 48/80\n",
      "19/19 [==============================] - 0s 3ms/step - loss: 0.7474 - reconstruction_loss: 0.7471 - kl_loss: 3.2870e-04\n",
      "Epoch 49/80\n",
      "19/19 [==============================] - 0s 4ms/step - loss: 0.7470 - reconstruction_loss: 0.7468 - kl_loss: 1.8836e-04\n",
      "Epoch 50/80\n",
      "19/19 [==============================] - 0s 4ms/step - loss: 0.7467 - reconstruction_loss: 0.7465 - kl_loss: 1.8564e-04\n",
      "Epoch 51/80\n",
      "19/19 [==============================] - 0s 5ms/step - loss: 0.7465 - reconstruction_loss: 0.7463 - kl_loss: 1.8505e-04\n",
      "Epoch 52/80\n",
      "19/19 [==============================] - 0s 5ms/step - loss: 0.7450 - reconstruction_loss: 0.7449 - kl_loss: 1.8492e-04\n",
      "Epoch 53/80\n",
      "19/19 [==============================] - 0s 4ms/step - loss: 0.7442 - reconstruction_loss: 0.7440 - kl_loss: 1.8366e-04\n",
      "Epoch 54/80\n",
      "19/19 [==============================] - 0s 5ms/step - loss: 0.7440 - reconstruction_loss: 0.7438 - kl_loss: 1.8334e-04\n",
      "Epoch 55/80\n",
      "19/19 [==============================] - 0s 4ms/step - loss: 0.7426 - reconstruction_loss: 0.7424 - kl_loss: 1.8776e-04\n",
      "Epoch 56/80\n",
      "19/19 [==============================] - 0s 6ms/step - loss: 0.7426 - reconstruction_loss: 0.7424 - kl_loss: 1.9193e-04\n",
      "Epoch 57/80\n",
      "19/19 [==============================] - 0s 5ms/step - loss: 0.7421 - reconstruction_loss: 0.7419 - kl_loss: 1.9269e-04\n",
      "Epoch 58/80\n",
      "19/19 [==============================] - 0s 5ms/step - loss: 0.7420 - reconstruction_loss: 0.7418 - kl_loss: 2.0825e-04\n",
      "Epoch 59/80\n",
      "19/19 [==============================] - 0s 5ms/step - loss: 0.7418 - reconstruction_loss: 0.7416 - kl_loss: 2.0655e-04\n",
      "Epoch 60/80\n",
      "19/19 [==============================] - 0s 5ms/step - loss: 0.7413 - reconstruction_loss: 0.7411 - kl_loss: 2.0683e-04\n",
      "Epoch 61/80\n",
      "19/19 [==============================] - 0s 4ms/step - loss: 0.7402 - reconstruction_loss: 0.7400 - kl_loss: 1.9873e-04\n",
      "Epoch 62/80\n",
      "19/19 [==============================] - 0s 4ms/step - loss: 0.7400 - reconstruction_loss: 0.7399 - kl_loss: 1.8892e-04\n",
      "Epoch 63/80\n"
     ]
    },
    {
     "name": "stdout",
     "output_type": "stream",
     "text": [
      "19/19 [==============================] - 0s 5ms/step - loss: 0.7397 - reconstruction_loss: 0.7395 - kl_loss: 1.9001e-04\n",
      "Epoch 64/80\n",
      "19/19 [==============================] - 0s 4ms/step - loss: 0.7403 - reconstruction_loss: 0.7401 - kl_loss: 2.0003e-04\n",
      "Epoch 65/80\n",
      "19/19 [==============================] - 0s 4ms/step - loss: 0.7389 - reconstruction_loss: 0.7387 - kl_loss: 1.8649e-04\n",
      "Epoch 66/80\n",
      "19/19 [==============================] - 0s 4ms/step - loss: 0.7391 - reconstruction_loss: 0.7389 - kl_loss: 2.0316e-04\n",
      "Epoch 67/80\n",
      "19/19 [==============================] - 0s 4ms/step - loss: 0.7381 - reconstruction_loss: 0.7379 - kl_loss: 1.8638e-04\n",
      "Epoch 68/80\n",
      "19/19 [==============================] - 0s 2ms/step - loss: 0.7379 - reconstruction_loss: 0.7377 - kl_loss: 1.6923e-04\n",
      "Epoch 69/80\n",
      "19/19 [==============================] - 0s 2ms/step - loss: 0.7381 - reconstruction_loss: 0.7379 - kl_loss: 1.6878e-04\n",
      "Epoch 70/80\n",
      "19/19 [==============================] - 0s 2ms/step - loss: 0.7372 - reconstruction_loss: 0.7370 - kl_loss: 1.6851e-04\n",
      "Epoch 71/80\n",
      "19/19 [==============================] - 0s 2ms/step - loss: 0.7371 - reconstruction_loss: 0.7370 - kl_loss: 1.6175e-04\n",
      "Epoch 72/80\n",
      "19/19 [==============================] - 0s 2ms/step - loss: 0.7363 - reconstruction_loss: 0.7361 - kl_loss: 1.5588e-04\n",
      "Epoch 73/80\n",
      "19/19 [==============================] - 0s 2ms/step - loss: 0.7363 - reconstruction_loss: 0.7362 - kl_loss: 1.5231e-04\n",
      "Epoch 74/80\n",
      "19/19 [==============================] - 0s 2ms/step - loss: 0.7356 - reconstruction_loss: 0.7355 - kl_loss: 1.5068e-04\n",
      "Epoch 75/80\n",
      "19/19 [==============================] - 0s 2ms/step - loss: 0.7355 - reconstruction_loss: 0.7354 - kl_loss: 1.4670e-04\n",
      "Epoch 76/80\n",
      "19/19 [==============================] - 0s 3ms/step - loss: 0.7353 - reconstruction_loss: 0.7352 - kl_loss: 1.4324e-04\n",
      "Epoch 77/80\n",
      "19/19 [==============================] - 0s 4ms/step - loss: 0.7349 - reconstruction_loss: 0.7348 - kl_loss: 1.4081e-04\n",
      "Epoch 78/80\n",
      "19/19 [==============================] - 0s 5ms/step - loss: 0.7349 - reconstruction_loss: 0.7348 - kl_loss: 1.3896e-04\n",
      "Epoch 79/80\n",
      "19/19 [==============================] - 0s 4ms/step - loss: 0.7345 - reconstruction_loss: 0.7344 - kl_loss: 1.3636e-04\n",
      "Epoch 80/80\n",
      "19/19 [==============================] - 0s 3ms/step - loss: 0.7348 - reconstruction_loss: 0.7347 - kl_loss: 1.3394e-04\n"
     ]
    }
   ],
   "source": [
    "# Entraînement du modèle\n",
    "\n",
    "history = vae.fit(normal_train_data, normal_train_data, \n",
    "          epochs=80, \n",
    "          batch_size=128,\n",
    "          \n",
    "          shuffle=True)"
   ]
  },
  {
   "cell_type": "code",
   "execution_count": 14,
   "id": "dd587cfb",
   "metadata": {},
   "outputs": [
    {
     "data": {
      "text/plain": [
       "<matplotlib.legend.Legend at 0x7fe794173ee0>"
      ]
     },
     "execution_count": 14,
     "metadata": {},
     "output_type": "execute_result"
    },
    {
     "data": {
      "image/png": "[encoded data removed]",
      "text/plain": [
       "<Figure size 432x288 with 1 Axes>"
      ]
     },
     "metadata": {
      "needs_background": "light"
     },
     "output_type": "display_data"
    }
   ],
   "source": [
    "plt.plot(history.history[\"loss\"], label=\"Training Loss\")\n",
    "plt.legend()"
   ]
  },
  {
   "cell_type": "code",
   "execution_count": 15,
   "id": "d9fa9ab1",
   "metadata": {},
   "outputs": [
    {
     "data": {
      "image/png": "[encoded data removed]",
      "text/plain": [
       "<Figure size 432x288 with 1 Axes>"
      ]
     },
     "metadata": {
      "needs_background": "light"
     },
     "output_type": "display_data"
    }
   ],
   "source": [
    "# Reconstruction d'une séquence normale ECG à partir des données de test_normal\n",
    "\n",
    "z_mean, z_var, z  = vae.encoder.predict(normal_test_data)\n",
    "x_reconst = vae.decoder.predict(z)\n",
    "\n",
    "\n",
    "\n",
    "plt.plot(normal_test_data[0],'b')\n",
    "plt.plot(x_reconst[0],'r')\n",
    "plt.fill_between(np.arange(140), x_reconst[0], normal_test_data[0], color='lightcoral' )\n",
    "plt.legend(labels=[\"Input\", \"Reconstruction\", \"Error\"])\n",
    "plt.show()"
   ]
  },
  {
   "cell_type": "code",
   "execution_count": 16,
   "id": "c9ead5d1",
   "metadata": {},
   "outputs": [
    {
     "data": {
      "image/png": "[encoded data removed]",
      "text/plain": [
       "<Figure size 432x288 with 1 Axes>"
      ]
     },
     "metadata": {
      "needs_background": "light"
     },
     "output_type": "display_data"
    }
   ],
   "source": [
    "# Reconstruction d'une sequence anormale ECG à partir des données de test_anormal\n",
    "anomalous_test_data\n",
    "z_mean, z_var, z  = vae.encoder.predict(anomalous_test_data)\n",
    "x_reconst = vae.decoder.predict(z)\n",
    "\n",
    "\n",
    "\n",
    "plt.plot(anomalous_test_data[0],'b')\n",
    "plt.plot(x_reconst[0],'r')\n",
    "plt.fill_between(np.arange(140), x_reconst[0], anomalous_test_data[0], color='lightcoral' )\n",
    "plt.legend(labels=[\"Input\", \"Reconstruction\", \"Error\"])\n",
    "plt.show()"
   ]
  },
  {
   "cell_type": "code",
   "execution_count": 19,
   "id": "3dd1b676",
   "metadata": {},
   "outputs": [
    {
     "ename": "InvalidArgumentError",
     "evalue": "Incompatible shapes: [2359,140] vs. [3,2359,8] [Op:Sub]",
     "output_type": "error",
     "traceback": [
      "\u001b[0;31m---------------------------------------------------------------------------\u001b[0m",
      "\u001b[0;31mInvalidArgumentError\u001b[0m                      Traceback (most recent call last)",
      "\u001b[0;32m/tmp/ipykernel_180379/2988964418.py\u001b[0m in \u001b[0;36m<module>\u001b[0;34m\u001b[0m\n\u001b[1;32m      1\u001b[0m \u001b[0;31m# Tracer l'erreur de reconstruction sur des ECG normaux à partir de l'ensemble d'apprentissage\u001b[0m\u001b[0;34m\u001b[0m\u001b[0;34m\u001b[0m\u001b[0m\n\u001b[1;32m      2\u001b[0m \u001b[0mreconstructions\u001b[0m \u001b[0;34m=\u001b[0m \u001b[0mvae\u001b[0m\u001b[0;34m.\u001b[0m\u001b[0mencoder\u001b[0m\u001b[0;34m.\u001b[0m\u001b[0mpredict\u001b[0m\u001b[0;34m(\u001b[0m\u001b[0mnormal_train_data\u001b[0m\u001b[0;34m)\u001b[0m\u001b[0;34m\u001b[0m\u001b[0;34m\u001b[0m\u001b[0m\n\u001b[0;32m----> 3\u001b[0;31m \u001b[0mtrain_loss\u001b[0m \u001b[0;34m=\u001b[0m \u001b[0mtf\u001b[0m\u001b[0;34m.\u001b[0m\u001b[0mkeras\u001b[0m\u001b[0;34m.\u001b[0m\u001b[0mlosses\u001b[0m\u001b[0;34m.\u001b[0m\u001b[0mmae\u001b[0m\u001b[0;34m(\u001b[0m\u001b[0mreconstructions\u001b[0m\u001b[0;34m,\u001b[0m \u001b[0mnormal_train_data\u001b[0m\u001b[0;34m)\u001b[0m\u001b[0;34m\u001b[0m\u001b[0;34m\u001b[0m\u001b[0m\n\u001b[0m\u001b[1;32m      4\u001b[0m \u001b[0;34m\u001b[0m\u001b[0m\n\u001b[1;32m      5\u001b[0m \u001b[0mplt\u001b[0m\u001b[0;34m.\u001b[0m\u001b[0mhist\u001b[0m\u001b[0;34m(\u001b[0m\u001b[0mtrain_loss\u001b[0m\u001b[0;34m[\u001b[0m\u001b[0;32mNone\u001b[0m\u001b[0;34m,\u001b[0m\u001b[0;34m:\u001b[0m\u001b[0;34m]\u001b[0m\u001b[0;34m,\u001b[0m \u001b[0mbins\u001b[0m\u001b[0;34m=\u001b[0m\u001b[0;36m50\u001b[0m\u001b[0;34m)\u001b[0m\u001b[0;34m\u001b[0m\u001b[0;34m\u001b[0m\u001b[0m\n",
      "\u001b[0;32m~/anaconda3/lib/python3.9/site-packages/tensorflow/python/util/traceback_utils.py\u001b[0m in \u001b[0;36merror_handler\u001b[0;34m(*args, **kwargs)\u001b[0m\n\u001b[1;32m    151\u001b[0m     \u001b[0;32mexcept\u001b[0m \u001b[0mException\u001b[0m \u001b[0;32mas\u001b[0m \u001b[0me\u001b[0m\u001b[0;34m:\u001b[0m\u001b[0;34m\u001b[0m\u001b[0;34m\u001b[0m\u001b[0m\n\u001b[1;32m    152\u001b[0m       \u001b[0mfiltered_tb\u001b[0m \u001b[0;34m=\u001b[0m \u001b[0m_process_traceback_frames\u001b[0m\u001b[0;34m(\u001b[0m\u001b[0me\u001b[0m\u001b[0;34m.\u001b[0m\u001b[0m__traceback__\u001b[0m\u001b[0;34m)\u001b[0m\u001b[0;34m\u001b[0m\u001b[0;34m\u001b[0m\u001b[0m\n\u001b[0;32m--> 153\u001b[0;31m       \u001b[0;32mraise\u001b[0m \u001b[0me\u001b[0m\u001b[0;34m.\u001b[0m\u001b[0mwith_traceback\u001b[0m\u001b[0;34m(\u001b[0m\u001b[0mfiltered_tb\u001b[0m\u001b[0;34m)\u001b[0m \u001b[0;32mfrom\u001b[0m \u001b[0;32mNone\u001b[0m\u001b[0;34m\u001b[0m\u001b[0;34m\u001b[0m\u001b[0m\n\u001b[0m\u001b[1;32m    154\u001b[0m     \u001b[0;32mfinally\u001b[0m\u001b[0;34m:\u001b[0m\u001b[0;34m\u001b[0m\u001b[0;34m\u001b[0m\u001b[0m\n\u001b[1;32m    155\u001b[0m       \u001b[0;32mdel\u001b[0m \u001b[0mfiltered_tb\u001b[0m\u001b[0;34m\u001b[0m\u001b[0;34m\u001b[0m\u001b[0m\n",
      "\u001b[0;32m~/anaconda3/lib/python3.9/site-packages/keras/losses.py\u001b[0m in \u001b[0;36mmean_absolute_error\u001b[0;34m(y_true, y_pred)\u001b[0m\n\u001b[1;32m   1455\u001b[0m   \u001b[0my_pred\u001b[0m \u001b[0;34m=\u001b[0m \u001b[0mtf\u001b[0m\u001b[0;34m.\u001b[0m\u001b[0mconvert_to_tensor\u001b[0m\u001b[0;34m(\u001b[0m\u001b[0my_pred\u001b[0m\u001b[0;34m)\u001b[0m\u001b[0;34m\u001b[0m\u001b[0;34m\u001b[0m\u001b[0m\n\u001b[1;32m   1456\u001b[0m   \u001b[0my_true\u001b[0m \u001b[0;34m=\u001b[0m \u001b[0mtf\u001b[0m\u001b[0;34m.\u001b[0m\u001b[0mcast\u001b[0m\u001b[0;34m(\u001b[0m\u001b[0my_true\u001b[0m\u001b[0;34m,\u001b[0m \u001b[0my_pred\u001b[0m\u001b[0;34m.\u001b[0m\u001b[0mdtype\u001b[0m\u001b[0;34m)\u001b[0m\u001b[0;34m\u001b[0m\u001b[0;34m\u001b[0m\u001b[0m\n\u001b[0;32m-> 1457\u001b[0;31m   \u001b[0;32mreturn\u001b[0m \u001b[0mbackend\u001b[0m\u001b[0;34m.\u001b[0m\u001b[0mmean\u001b[0m\u001b[0;34m(\u001b[0m\u001b[0mtf\u001b[0m\u001b[0;34m.\u001b[0m\u001b[0mabs\u001b[0m\u001b[0;34m(\u001b[0m\u001b[0my_pred\u001b[0m \u001b[0;34m-\u001b[0m \u001b[0my_true\u001b[0m\u001b[0;34m)\u001b[0m\u001b[0;34m,\u001b[0m \u001b[0maxis\u001b[0m\u001b[0;34m=\u001b[0m\u001b[0;34m-\u001b[0m\u001b[0;36m1\u001b[0m\u001b[0;34m)\u001b[0m\u001b[0;34m\u001b[0m\u001b[0;34m\u001b[0m\u001b[0m\n\u001b[0m\u001b[1;32m   1458\u001b[0m \u001b[0;34m\u001b[0m\u001b[0m\n\u001b[1;32m   1459\u001b[0m \u001b[0;34m\u001b[0m\u001b[0m\n",
      "\u001b[0;31mInvalidArgumentError\u001b[0m: Incompatible shapes: [2359,140] vs. [3,2359,8] [Op:Sub]"
     ]
    }
   ],
   "source": [
    "# Tracer l'erreur de reconstruction sur des ECG normaux à partir de l'ensemble d'apprentissage\n",
    "reconstructions = vae.encoder.predict(normal_train_data)\n",
    "train_loss = tf.keras.losses.mae(reconstructions, normal_train_data)\n",
    "\n",
    "plt.hist(train_loss[None,:], bins=50)\n",
    "plt.xlabel(\"Train loss\")\n",
    "plt.ylabel(\"No of examples\")\n",
    "plt.show()"
   ]
  },
  {
   "cell_type": "code",
   "execution_count": null,
   "id": "cc6e03e8",
   "metadata": {},
   "outputs": [],
   "source": []
  }
 ],
 "metadata": {
  "kernelspec": {
   "display_name": "Python 3 (ipykernel)",
   "language": "python",
   "name": "python3"
  },
  "language_info": {
   "codemirror_mode": {
    "name": "ipython",
    "version": 3
   },
   "file_extension": ".py",
   "mimetype": "text/x-python",
   "name": "python",
   "nbconvert_exporter": "python",
   "pygments_lexer": "ipython3",
   "version": "3.9.7"
  }
 },
 "nbformat": 4,
 "nbformat_minor": 5
}
