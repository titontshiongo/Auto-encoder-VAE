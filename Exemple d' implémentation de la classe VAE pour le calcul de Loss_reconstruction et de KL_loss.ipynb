{
 "cells": [
  {
   "cell_type": "markdown",
   "id": "fc107a06",
   "metadata": {},
   "source": [
    "# Implémentation 2"
   ]
  },
  {
   "cell_type": "code",
   "execution_count": 2,
   "id": "ad80e77f",
   "metadata": {},
   "outputs": [
    {
     "name": "stderr",
     "output_type": "stream",
     "text": [
      "2022-04-15 10:57:14.689606: W tensorflow/stream_executor/platform/default/dso_loader.cc:64] Could not load dynamic library 'libcudart.so.11.0'; dlerror: libcudart.so.11.0: cannot open shared object file: No such file or directory\n",
      "2022-04-15 10:57:14.689632: I tensorflow/stream_executor/cuda/cudart_stub.cc:29] Ignore above cudart dlerror if you do not have a GPU set up on your machine.\n"
     ]
    }
   ],
   "source": [
    "import pandas as pd\n",
    "import numpy as np\n",
    "import matplotlib.pyplot as plt\n",
    "import seaborn as sns\n",
    "from tensorflow.keras import layers\n",
    "import tensorflow as tf\n",
    "import keras \n",
    "from scipy.stats import norm"
   ]
  },
  {
   "cell_type": "code",
   "execution_count": 3,
   "id": "64d750c1",
   "metadata": {},
   "outputs": [],
   "source": [
    "class VAE(keras.Model):\n",
    "\n",
    "\n",
    "    def __init__(self, encoder=None, decoder=None, loss_weights=[1,1], **kwargs):\n",
    "  \n",
    "        super(VAE, self).__init__(**kwargs)\n",
    "        self.encoder      = encoder\n",
    "        self.decoder      = decoder\n",
    "        self.loss_weights = loss_weights\n",
    "        print('loss_weights={list(self.loss_weights)}')\n",
    "       \n",
    "        \n",
    "    def call(self, inputs):\n",
    "\n",
    "        z_mean, z_log_var, z = self.encoder(inputs)\n",
    "        output               = self.decoder(z)\n",
    "        return output\n",
    "                \n",
    "        \n",
    "    def train_step(self, input):\n",
    "\n",
    "        if isinstance(input, tuple):\n",
    "            input = input[0]\n",
    "        \n",
    "        k1,k2 = self.loss_weights\n",
    "     \n",
    "        with tf.GradientTape() as tape:\n",
    "            \n",
    "          \n",
    "            z_mean, z_log_var, z = self.encoder(input)\n",
    "            \n",
    "           \n",
    "            reconstruction       = self.decoder(z)\n",
    "         \n",
    "          \n",
    "            reconstruction_loss  = k1 * tf.reduce_mean( keras.losses.binary_crossentropy(input, reconstruction) )\n",
    "\n",
    "            kl_loss = 1 + z_log_var - tf.square(z_mean) - tf.exp(z_log_var)\n",
    "            kl_loss = -tf.reduce_mean(kl_loss) * k2\n",
    "\n",
    "            total_loss = reconstruction_loss + kl_loss\n",
    "\n",
    "    \n",
    "        grads = tape.gradient(total_loss, self.trainable_weights)\n",
    "        self.optimizer.apply_gradients(zip(grads, self.trainable_weights))\n",
    "        \n",
    "        return {\n",
    "            \"loss\":     total_loss,\n",
    "            \"r_loss\":   reconstruction_loss,\n",
    "            \"kl_loss\":  kl_loss,\n",
    "        }\n"
   ]
  },
  {
   "cell_type": "markdown",
   "id": "4ebe862a",
   "metadata": {},
   "source": [
    "# implémentation avec la construction personnelle de la couche LossLayer"
   ]
  },
  {
   "cell_type": "code",
   "execution_count": 4,
   "id": "f4f50ea9",
   "metadata": {},
   "outputs": [],
   "source": [
    "class LossLayer(keras.layers.Layer):\n",
    "   \n",
    "    def __init__(self, loss_weights=[3,7]):\n",
    "        super().__init__()\n",
    "        self.k1 = loss_weights[0]\n",
    "        self.k2 = loss_weights[1]\n",
    "\n",
    "\n",
    "    def call(self, inputs):\n",
    "        \n",
    "     \n",
    "        x, z_mean, z_log_var, y = inputs\n",
    "        \n",
    "      \n",
    "        r_loss  = tf.reduce_mean( keras.losses.binary_crossentropy(x,y) ) * self.k1\n",
    "      \n",
    "        kl_loss = 1 + z_log_var - tf.square(z_mean) - tf.exp(z_log_var)\n",
    "        kl_loss = -tf.reduce_mean(kl_loss) * self.k2\n",
    "        \n",
    "\n",
    "        loss = r_loss + kl_loss\n",
    "        self.add_loss(loss)\n",
    "     \n",
    "        self.add_metric(loss,   aggregation='mean',name='loss')\n",
    "        self.add_metric(r_loss, aggregation='mean',name='r_loss')\n",
    "        self.add_metric(kl_loss,aggregation='mean',name='kl_loss')\n",
    "        \n",
    "        return y"
   ]
  },
  {
   "cell_type": "code",
   "execution_count": null,
   "id": "a98b6b58",
   "metadata": {},
   "outputs": [],
   "source": [
    "inputs = keras.Input(shape=(28, 28, 1))\n",
    "loss_weights  = [1,.001]\n",
    "\n",
    "z_mean, z_log_var, z = encoder(inputs)\n",
    "outputs              = decoder(z)\n",
    "\n",
    "outputs = LossLayer(loss_weights=loss_weights)([inputs, z_mean, z_log_var, outputs])\n",
    "\n",
    "vae=keras.Model(inputs,outputs)\n",
    "\n",
    "vae.compile(optimizer='adam', loss=None)"
   ]
  },
  {
   "cell_type": "code",
   "execution_count": null,
   "id": "74227579",
   "metadata": {},
   "outputs": [],
   "source": [
    "# entrainement \n",
    "vae.fit(x_data, epochs=epochs, batch_size=batch_size, shuffle=True)"
   ]
  }
 ],
 "metadata": {
  "kernelspec": {
   "display_name": "Python 3 (ipykernel)",
   "language": "python",
   "name": "python3"
  },
  "language_info": {
   "codemirror_mode": {
    "name": "ipython",
    "version": 3
   },
   "file_extension": ".py",
   "mimetype": "text/x-python",
   "name": "python",
   "nbconvert_exporter": "python",
   "pygments_lexer": "ipython3",
   "version": "3.9.7"
  }
 },
 "nbformat": 4,
 "nbformat_minor": 5
}
